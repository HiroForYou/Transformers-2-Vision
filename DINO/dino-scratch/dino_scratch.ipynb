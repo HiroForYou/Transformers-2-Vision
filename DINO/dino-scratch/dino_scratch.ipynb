{
  "nbformat": 4,
  "nbformat_minor": 0,
  "metadata": {
    "colab": {
      "name": "dino-scratch.ipynb",
      "provenance": [],
      "collapsed_sections": []
    },
    "kernelspec": {
      "name": "python3",
      "display_name": "Python 3"
    },
    "language_info": {
      "name": "python"
    },
    "accelerator": "GPU"
  },
  "cells": [
    {
      "cell_type": "code",
      "metadata": {
        "colab": {
          "base_uri": "https://localhost:8080/"
        },
        "id": "e763R0bDUzGj",
        "outputId": "115949cd-79a0-4286-ab1e-2bec499f720b"
      },
      "source": [
        "!curl https://s3.amazonaws.com/fast-ai-imageclas/imagenette2-320.tgz --output imagenette2-320.tgz"
      ],
      "execution_count": null,
      "outputs": [
        {
          "output_type": "stream",
          "name": "stdout",
          "text": [
            "  % Total    % Received % Xferd  Average Speed   Time    Time     Time  Current\n",
            "                                 Dload  Upload   Total   Spent    Left  Speed\n",
            "100  325M  100  325M    0     0  31.5M      0  0:00:10  0:00:10 --:--:-- 35.7M\n"
          ]
        }
      ]
    },
    {
      "cell_type": "code",
      "metadata": {
        "id": "WGqVF7ngVDU7"
      },
      "source": [
        "!mkdir data\n",
        "!tar -xvzf imagenette2-320.tgz -C data/"
      ],
      "execution_count": null,
      "outputs": []
    },
    {
      "cell_type": "code",
      "metadata": {
        "colab": {
          "base_uri": "https://localhost:8080/"
        },
        "id": "CE8qkmWYY0xD",
        "outputId": "be95dfe2-80bb-4cee-be7b-d57138629b28"
      },
      "source": [
        "!pip install timm"
      ],
      "execution_count": null,
      "outputs": [
        {
          "output_type": "stream",
          "name": "stdout",
          "text": [
            "Collecting timm\n",
            "  Downloading timm-0.4.12-py3-none-any.whl (376 kB)\n",
            "\u001b[?25l\r\u001b[K     |▉                               | 10 kB 21.0 MB/s eta 0:00:01\r\u001b[K     |█▊                              | 20 kB 26.8 MB/s eta 0:00:01\r\u001b[K     |██▋                             | 30 kB 22.3 MB/s eta 0:00:01\r\u001b[K     |███▌                            | 40 kB 18.2 MB/s eta 0:00:01\r\u001b[K     |████▍                           | 51 kB 14.4 MB/s eta 0:00:01\r\u001b[K     |█████▏                          | 61 kB 9.7 MB/s eta 0:00:01\r\u001b[K     |██████                          | 71 kB 10.5 MB/s eta 0:00:01\r\u001b[K     |███████                         | 81 kB 11.5 MB/s eta 0:00:01\r\u001b[K     |███████▉                        | 92 kB 12.4 MB/s eta 0:00:01\r\u001b[K     |████████▊                       | 102 kB 12.4 MB/s eta 0:00:01\r\u001b[K     |█████████▋                      | 112 kB 12.4 MB/s eta 0:00:01\r\u001b[K     |██████████▍                     | 122 kB 12.4 MB/s eta 0:00:01\r\u001b[K     |███████████▎                    | 133 kB 12.4 MB/s eta 0:00:01\r\u001b[K     |████████████▏                   | 143 kB 12.4 MB/s eta 0:00:01\r\u001b[K     |█████████████                   | 153 kB 12.4 MB/s eta 0:00:01\r\u001b[K     |██████████████                  | 163 kB 12.4 MB/s eta 0:00:01\r\u001b[K     |██████████████▊                 | 174 kB 12.4 MB/s eta 0:00:01\r\u001b[K     |███████████████▋                | 184 kB 12.4 MB/s eta 0:00:01\r\u001b[K     |████████████████▌               | 194 kB 12.4 MB/s eta 0:00:01\r\u001b[K     |█████████████████▍              | 204 kB 12.4 MB/s eta 0:00:01\r\u001b[K     |██████████████████▎             | 215 kB 12.4 MB/s eta 0:00:01\r\u001b[K     |███████████████████▏            | 225 kB 12.4 MB/s eta 0:00:01\r\u001b[K     |████████████████████            | 235 kB 12.4 MB/s eta 0:00:01\r\u001b[K     |████████████████████▉           | 245 kB 12.4 MB/s eta 0:00:01\r\u001b[K     |█████████████████████▊          | 256 kB 12.4 MB/s eta 0:00:01\r\u001b[K     |██████████████████████▋         | 266 kB 12.4 MB/s eta 0:00:01\r\u001b[K     |███████████████████████▌        | 276 kB 12.4 MB/s eta 0:00:01\r\u001b[K     |████████████████████████▍       | 286 kB 12.4 MB/s eta 0:00:01\r\u001b[K     |█████████████████████████▏      | 296 kB 12.4 MB/s eta 0:00:01\r\u001b[K     |██████████████████████████      | 307 kB 12.4 MB/s eta 0:00:01\r\u001b[K     |███████████████████████████     | 317 kB 12.4 MB/s eta 0:00:01\r\u001b[K     |███████████████████████████▉    | 327 kB 12.4 MB/s eta 0:00:01\r\u001b[K     |████████████████████████████▊   | 337 kB 12.4 MB/s eta 0:00:01\r\u001b[K     |█████████████████████████████▌  | 348 kB 12.4 MB/s eta 0:00:01\r\u001b[K     |██████████████████████████████▍ | 358 kB 12.4 MB/s eta 0:00:01\r\u001b[K     |███████████████████████████████▎| 368 kB 12.4 MB/s eta 0:00:01\r\u001b[K     |████████████████████████████████| 376 kB 12.4 MB/s \n",
            "\u001b[?25hRequirement already satisfied: torchvision in /usr/local/lib/python3.7/dist-packages (from timm) (0.10.0+cu111)\n",
            "Requirement already satisfied: torch>=1.4 in /usr/local/lib/python3.7/dist-packages (from timm) (1.9.0+cu111)\n",
            "Requirement already satisfied: typing-extensions in /usr/local/lib/python3.7/dist-packages (from torch>=1.4->timm) (3.7.4.3)\n",
            "Requirement already satisfied: pillow>=5.3.0 in /usr/local/lib/python3.7/dist-packages (from torchvision->timm) (7.1.2)\n",
            "Requirement already satisfied: numpy in /usr/local/lib/python3.7/dist-packages (from torchvision->timm) (1.19.5)\n",
            "Installing collected packages: timm\n",
            "Successfully installed timm-0.4.12\n"
          ]
        }
      ]
    },
    {
      "cell_type": "code",
      "metadata": {
        "id": "3tkQyLd-bpr6"
      },
      "source": [
        "import tensorflow as tf\n",
        "import tensorboard as tb\n",
        "tf.io.gfile = tb.compat.tensorflow_stub.io.gfile"
      ],
      "execution_count": null,
      "outputs": []
    },
    {
      "cell_type": "code",
      "metadata": {
        "id": "vIck-VICcGAu"
      },
      "source": [
        "!pip uninstall tensorflow"
      ],
      "execution_count": null,
      "outputs": []
    },
    {
      "cell_type": "code",
      "metadata": {
        "colab": {
          "base_uri": "https://localhost:8080/"
        },
        "id": "E9vzkgV4XrrT",
        "outputId": "26556e17-148b-499b-acfd-7e48085ff422"
      },
      "source": [
        "!python train.py -d cuda --batch-size-eval 16 -b 32 --norm-last-layer -t logs-k80-10e-ln"
      ],
      "execution_count": null,
      "outputs": [
        {
          "output_type": "stream",
          "name": "stdout",
          "text": [
            "100% 295/295 [21:10<00:00,  4.31s/it]\n",
            "/usr/local/lib/python3.7/dist-packages/torch/utils/data/dataloader.py:481: UserWarning: This DataLoader will create 4 worker processes in total. Our suggested max number of worker in current system is 2, which is smaller than what this DataLoader is going to create. Please be aware that excessive worker creation might get DataLoader running slow or even freeze, lower the worker number to avoid potential slowness/freeze if necessary.\n",
            "  cpuset_checked))\n",
            "[W pthreadpool-cpp.cc:90] Warning: Leaking Caffe2 thread-pool after fork. (function pthreadpool)\n",
            "[W pthreadpool-cpp.cc:90] Warning: Leaking Caffe2 thread-pool after fork. (function pthreadpool)\n",
            "[W pthreadpool-cpp.cc:90] Warning: Leaking Caffe2 thread-pool after fork. (function pthreadpool)\n",
            "[W pthreadpool-cpp.cc:90] Warning: Leaking Caffe2 thread-pool after fork. (function pthreadpool)\n",
            " 39% 115/295 [06:36<10:12,  3.40s/it]Epoch current ->  3\n",
            "[W pthreadpool-cpp.cc:90] Warning: Leaking Caffe2 thread-pool after fork. (function pthreadpool)\n",
            "[W pthreadpool-cpp.cc:90] Warning: Leaking Caffe2 thread-pool after fork. (function pthreadpool)\n",
            "[W pthreadpool-cpp.cc:90] Warning: Leaking Caffe2 thread-pool after fork. (function pthreadpool)\n",
            "[W pthreadpool-cpp.cc:90] Warning: Leaking Caffe2 thread-pool after fork. (function pthreadpool)\n",
            "[W pthreadpool-cpp.cc:90] Warning: Leaking Caffe2 thread-pool after fork. (function pthreadpool)\n",
            "[W pthreadpool-cpp.cc:90] Warning: Leaking Caffe2 thread-pool after fork. (function pthreadpool)\n",
            "[W pthreadpool-cpp.cc:90] Warning: Leaking Caffe2 thread-pool after fork. (function pthreadpool)\n",
            "[W pthreadpool-cpp.cc:90] Warning: Leaking Caffe2 thread-pool after fork. (function pthreadpool)\n",
            "[W pthreadpool-cpp.cc:90] Warning: Leaking Caffe2 thread-pool after fork. (function pthreadpool)\n",
            "[W pthreadpool-cpp.cc:90] Warning: Leaking Caffe2 thread-pool after fork. (function pthreadpool)\n",
            "[W pthreadpool-cpp.cc:90] Warning: Leaking Caffe2 thread-pool after fork. (function pthreadpool)\n",
            "[W pthreadpool-cpp.cc:90] Warning: Leaking Caffe2 thread-pool after fork. (function pthreadpool)\n",
            " 51% 151/295 [10:49<08:09,  3.40s/it]"
          ]
        }
      ]
    },
    {
      "cell_type": "code",
      "metadata": {
        "id": "yP0EfN1EYcmk"
      },
      "source": [
        "import timm\n",
        "\n",
        "avail_pretrained_models = timm.list_models(pretrained=True)\n",
        "print(avail_pretrained_models)"
      ],
      "execution_count": null,
      "outputs": []
    },
    {
      "cell_type": "code",
      "metadata": {
        "id": "7Zos4KrjZdAv"
      },
      "source": [
        " 'deit_base_distilled_patch16_224', 'deit_base_distilled_patch16_384', \n",
        " 'deit_base_patch16_224', 'deit_base_patch16_384', 'deit_small_distilled_patch16_224', \n",
        " 'deit_small_patch16_224', 'deit_tiny_distilled_patch16_224', 'deit_tiny_patch16_224', \n",
        "\n",
        "\n",
        "'vit_base_patch16_224', 'vit_base_patch16_224_in21k', 'vit_base_patch16_224_miil', \n",
        "'vit_base_patch16_224_miil_in21k', 'vit_base_patch16_384', 'vit_base_patch32_224', 'vit_base_patch32_224_in21k', \n",
        "'vit_base_patch32_384', 'vit_base_r50_s16_224_in21k', 'vit_base_r50_s16_384', 'vit_huge_patch14_224_in21k', \n",
        "'vit_large_patch16_224', 'vit_large_patch16_224_in21k', 'vit_large_patch16_384', 'vit_large_patch32_224_in21k', \n",
        "'vit_large_patch32_384', 'vit_large_r50_s32_224', 'vit_large_r50_s32_224_in21k', 'vit_large_r50_s32_384', 'vit_small_patch16_224', \n",
        "'vit_small_patch16_224_in21k', 'vit_small_patch16_384', 'vit_small_patch32_224', 'vit_small_patch32_224_in21k', 'vit_small_patch32_384', \n",
        "'vit_small_r26_s32_224', 'vit_small_r26_s32_224_in21k', 'vit_small_r26_s32_384', 'vit_tiny_patch16_224', 'vit_tiny_patch16_224_in21k', \n",
        "'vit_tiny_patch16_384', 'vit_tiny_r_s16_p8_224', 'vit_tiny_r_s16_p8_224_in21k', 'vit_tiny_r_s16_p8_384'\n"
      ],
      "execution_count": null,
      "outputs": []
    },
    {
      "cell_type": "code",
      "metadata": {
        "id": "jlokouildiAe"
      },
      "source": [
        "!zip -r logs.zip logs"
      ],
      "execution_count": null,
      "outputs": []
    },
    {
      "cell_type": "code",
      "metadata": {
        "colab": {
          "base_uri": "https://localhost:8080/"
        },
        "id": "qVSzl0wsHNaK",
        "outputId": "4716dcde-eb0e-49f0-95b8-9e00a6392e13"
      },
      "source": [
        "!nvidia-smi -L"
      ],
      "execution_count": null,
      "outputs": [
        {
          "output_type": "stream",
          "name": "stdout",
          "text": [
            "GPU 0: Tesla K80 (UUID: GPU-61bd6572-9634-6b97-1891-5d4c253282f2)\n"
          ]
        }
      ]
    },
    {
      "cell_type": "code",
      "metadata": {
        "id": "6fr94tJzailJ"
      },
      "source": [
        ""
      ],
      "execution_count": null,
      "outputs": []
    }
  ]
}